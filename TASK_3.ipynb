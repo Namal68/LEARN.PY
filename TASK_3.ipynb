{
  "nbformat": 4,
  "nbformat_minor": 0,
  "metadata": {
    "colab": {
      "name": "TASK 3.ipynb",
      "provenance": [],
      "include_colab_link": true
    },
    "kernelspec": {
      "name": "python3",
      "display_name": "Python 3"
    },
    "language_info": {
      "name": "python"
    }
  },
  "cells": [
    {
      "cell_type": "markdown",
      "metadata": {
        "id": "view-in-github",
        "colab_type": "text"
      },
      "source": [
        "<a href=\"https://colab.research.google.com/github/Namal68/LEARN.PY/blob/main/TASK_3.ipynb\" target=\"_parent\"><img src=\"https://colab.research.google.com/assets/colab-badge.svg\" alt=\"Open In Colab\"/></a>"
      ]
    },
    {
      "cell_type": "markdown",
      "metadata": {
        "id": "z20IIB0eUQMN"
      },
      "source": [
        "1 - Write a program which takes a number as input from the user and check whether the number is odd or even.If odd print the number is odd if not print it is even."
      ]
    },
    {
      "cell_type": "code",
      "metadata": {
        "id": "dVgGJ-wTVRit",
        "outputId": "b6a94bae-9326-4a4a-bdc4-e64129bc1831",
        "colab": {
          "base_uri": "https://localhost:8080/"
        }
      },
      "source": [
        "#please enter your answer below this line\n",
        " \n",
        "n= int(input(\"Enter number n:\"))\n",
        "if(n%2==0):\n",
        " print(n,\"is a even number\")\n",
        "else: \n",
        " print(n,\"is a odd number\")"
      ],
      "execution_count": 1,
      "outputs": [
        {
          "output_type": "stream",
          "text": [
            "Enter number n:5\n",
            "5 is a odd number\n"
          ],
          "name": "stdout"
        }
      ]
    },
    {
      "cell_type": "markdown",
      "metadata": {
        "id": "7778XD8PVblj"
      },
      "source": [
        "2 -Write a program to find the largest among three numbers and print the largest number."
      ]
    },
    {
      "cell_type": "code",
      "metadata": {
        "id": "m0tUOkOFWR-d",
        "outputId": "602daca5-cc7f-41a3-c8ea-874b6558e0f1",
        "colab": {
          "base_uri": "https://localhost:8080/"
        }
      },
      "source": [
        "#please enter your answer below this line\n",
        " \n",
        "n1= int(input(\"Enter n1 \"))\n",
        "n2= int(input(\"Enter n2 \"))\n",
        "n3= int(input(\"Enter n3 \"))\n",
        "if (n1>n2):\n",
        " if(n1>n3):\n",
        "    print(\"n1 is the largest number\")\n",
        "elif():\n",
        "   print(\"n3 is the largest number\")\n",
        "elif(n2>n3):\n",
        "   print(\"n2 is the largest number\")\n",
        "elif():\n",
        "   print(\"n3 is the largest number\")"
      ],
      "execution_count": 3,
      "outputs": [
        {
          "output_type": "stream",
          "text": [
            "Enter n1 4\n",
            "Enter n2 2\n",
            "Enter n3 3\n",
            "n1 is the largest number\n"
          ],
          "name": "stdout"
        }
      ]
    },
    {
      "cell_type": "markdown",
      "metadata": {
        "id": "Jg2Ns4OQWaJy"
      },
      "source": [
        "3 -Write a function to prompt for a score between 0.0 and 1.0.\n",
        "\n",
        "    If the score is out of range, print an error.\n",
        "    If the score is between 0.0 and 1.0, print a grade using the following table:\n",
        "    Score Grade\n",
        "             Score\tGrade\n",
        "            >= 0.9\tA\n",
        "            >= 0.8\tB\n",
        "            >= 0.7\tC\n",
        "            >= 0.6\tD\n",
        "             < 0.6\tF\n",
        "If the user enters a value out of range, print a suitable error message and exit. For the test, enter a score of 0.85."
      ]
    },
    {
      "cell_type": "code",
      "metadata": {
        "id": "6DLbGe6XXZPx",
        "outputId": "abeed392-be81-4c08-8a85-52e665daf0bc",
        "colab": {
          "base_uri": "https://localhost:8080/"
        }
      },
      "source": [
        "#please enter your answer below this line\n",
        " \n",
        "m=int(input(\"enter the mark\"))\n",
        "x=m/100\n",
        "if(x>=.9):\n",
        "   print(\"Grade A\")\n",
        "elif(x>=.8):\n",
        "   print(\"Grade B\")\n",
        "elif(x>=.7):\n",
        "    print(\"Grade c\")\n",
        "elif(x>=.6):\n",
        "    print(\"Grade D\")\n",
        "elif(x<.6):\n",
        "    print(\"Grade F\")\n",
        "elif():\n",
        "    print(\"error\")"
      ],
      "execution_count": 5,
      "outputs": [
        {
          "output_type": "stream",
          "text": [
            "enter the mark1\n",
            "Grade F\n"
          ],
          "name": "stdout"
        }
      ]
    },
    {
      "cell_type": "markdown",
      "metadata": {
        "id": "-o0scDq7WkVT"
      },
      "source": [
        ""
      ]
    }
  ]
}